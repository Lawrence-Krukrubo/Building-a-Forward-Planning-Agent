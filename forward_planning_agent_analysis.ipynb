{
  "nbformat": 4,
  "nbformat_minor": 0,
  "metadata": {
    "colab": {
      "name": "forward_planning_agent_analysis.ipynb",
      "provenance": [],
      "collapsed_sections": [],
      "authorship_tag": "ABX9TyNW1jPVJWR2Gli4lnvVSljn",
      "include_colab_link": true
    },
    "kernelspec": {
      "name": "python3",
      "display_name": "Python 3"
    }
  },
  "cells": [
    {
      "cell_type": "markdown",
      "metadata": {
        "id": "view-in-github",
        "colab_type": "text"
      },
      "source": [
        "<a href=\"https://colab.research.google.com/github/Lawrence-Krukrubo/Building-a-Forward-Planning-Agent/blob/master/forward_planning_agent_analysis.ipynb\" target=\"_parent\"><img src=\"https://colab.research.google.com/assets/colab-badge.svg\" alt=\"Open In Colab\"/></a>"
      ]
    },
    {
      "cell_type": "code",
      "metadata": {
        "id": "PiwNoa8Ft75x",
        "colab_type": "code",
        "colab": {
          "base_uri": "https://localhost:8080/",
          "height": 71
        },
        "outputId": "f3c01767-a46a-4919-c761-2ecfe89e6688"
      },
      "source": [
        "import pandas as pd\n",
        "import numpy as np\n",
        "import matplotlib.pyplot as plt\n",
        "import seaborn as sns"
      ],
      "execution_count": 2,
      "outputs": [
        {
          "output_type": "stream",
          "text": [
            "/usr/local/lib/python3.6/dist-packages/statsmodels/tools/_testing.py:19: FutureWarning: pandas.util.testing is deprecated. Use the functions in the public API at pandas.testing instead.\n",
            "  import pandas.util.testing as tm\n"
          ],
          "name": "stderr"
        }
      ]
    },
    {
      "cell_type": "code",
      "metadata": {
        "id": "dm8icxW-Y-Bu",
        "colab_type": "code",
        "colab": {
          "base_uri": "https://localhost:8080/",
          "height": 221
        },
        "outputId": "365b0e99-0533-477e-cd58-fd4e34bf7ed9"
      },
      "source": [
        "!rm planning.xlsx\n",
        "!wget https://storage.googleapis.com/law1010/AIND_project_3_experiment.xlsx -O planning.xlsx"
      ],
      "execution_count": 4,
      "outputs": [
        {
          "output_type": "stream",
          "text": [
            "rm: cannot remove 'planning.xlsx': No such file or directory\n",
            "--2020-09-17 09:12:14--  https://storage.googleapis.com/law1010/AIND_project_3_experiment.xlsx\n",
            "Resolving storage.googleapis.com (storage.googleapis.com)... 64.233.189.128, 108.177.97.128, 108.177.125.128, ...\n",
            "Connecting to storage.googleapis.com (storage.googleapis.com)|64.233.189.128|:443... connected.\n",
            "HTTP request sent, awaiting response... 200 OK\n",
            "Length: 11205 (11K) [application/vnd.openxmlformats-officedocument.spreadsheetml.sheet]\n",
            "Saving to: ‘planning.xlsx’\n",
            "\n",
            "planning.xlsx       100%[===================>]  10.94K  --.-KB/s    in 0s      \n",
            "\n",
            "2020-09-17 09:12:15 (34.1 MB/s) - ‘planning.xlsx’ saved [11205/11205]\n",
            "\n"
          ],
          "name": "stdout"
        }
      ]
    },
    {
      "cell_type": "code",
      "metadata": {
        "id": "MktK1UzkxuzD",
        "colab_type": "code",
        "colab": {
          "base_uri": "https://localhost:8080/",
          "height": 34
        },
        "outputId": "e9cd4881-273f-4f2c-d0d7-03060e813404"
      },
      "source": [
        "xls = pd.ExcelFile('planning.xlsx')\n",
        "print(type(xls))"
      ],
      "execution_count": 5,
      "outputs": [
        {
          "output_type": "stream",
          "text": [
            "<class 'pandas.io.excel._base.ExcelFile'>\n"
          ],
          "name": "stdout"
        }
      ]
    },
    {
      "cell_type": "markdown",
      "metadata": {
        "id": "m0pLIkUSVl7V",
        "colab_type": "text"
      },
      "source": [
        "Let's see the sheet names"
      ]
    },
    {
      "cell_type": "code",
      "metadata": {
        "id": "aAxuG-9EyFXl",
        "colab_type": "code",
        "colab": {
          "base_uri": "https://localhost:8080/",
          "height": 34
        },
        "outputId": "cc5cd029-bbd2-4fad-9f2f-e5387cb75a6a"
      },
      "source": [
        "print(xls.sheet_names)"
      ],
      "execution_count": 6,
      "outputs": [
        {
          "output_type": "stream",
          "text": [
            "['problem_1', 'problem_2', 'problem _3', 'problem_4']\n"
          ],
          "name": "stdout"
        }
      ]
    },
    {
      "cell_type": "code",
      "metadata": {
        "id": "Yjee8JhaukmP",
        "colab_type": "code",
        "colab": {
          "base_uri": "https://localhost:8080/",
          "height": 390
        },
        "outputId": "67b0ed20-aba5-40ad-9c99-0a2ca84cf7be"
      },
      "source": [
        "prob_1 = pd.read_excel('planning.xlsx', sheet_name='problem_1', skiprows=2)\n",
        "prob_1"
      ],
      "execution_count": 7,
      "outputs": [
        {
          "output_type": "execute_result",
          "data": {
            "text/html": [
              "<div>\n",
              "<style scoped>\n",
              "    .dataframe tbody tr th:only-of-type {\n",
              "        vertical-align: middle;\n",
              "    }\n",
              "\n",
              "    .dataframe tbody tr th {\n",
              "        vertical-align: top;\n",
              "    }\n",
              "\n",
              "    .dataframe thead th {\n",
              "        text-align: right;\n",
              "    }\n",
              "</style>\n",
              "<table border=\"1\" class=\"dataframe\">\n",
              "  <thead>\n",
              "    <tr style=\"text-align: right;\">\n",
              "      <th></th>\n",
              "      <th>Problem</th>\n",
              "      <th>Algorithm</th>\n",
              "      <th>Actions</th>\n",
              "      <th>Expansions</th>\n",
              "      <th>Goal_tests</th>\n",
              "      <th>New_nodes</th>\n",
              "      <th>Plan_length</th>\n",
              "      <th>Time</th>\n",
              "    </tr>\n",
              "  </thead>\n",
              "  <tbody>\n",
              "    <tr>\n",
              "      <th>0</th>\n",
              "      <td>Air Cargo Problem 1</td>\n",
              "      <td>breadth_first_search</td>\n",
              "      <td>20</td>\n",
              "      <td>43</td>\n",
              "      <td>56</td>\n",
              "      <td>178</td>\n",
              "      <td>6</td>\n",
              "      <td>0.004324</td>\n",
              "    </tr>\n",
              "    <tr>\n",
              "      <th>1</th>\n",
              "      <td>Air Cargo Problem 1</td>\n",
              "      <td>depth_first_graph_search</td>\n",
              "      <td>20</td>\n",
              "      <td>21</td>\n",
              "      <td>22</td>\n",
              "      <td>84</td>\n",
              "      <td>20</td>\n",
              "      <td>0.002299</td>\n",
              "    </tr>\n",
              "    <tr>\n",
              "      <th>2</th>\n",
              "      <td>Air Cargo Problem 1</td>\n",
              "      <td>uniform_cost_search</td>\n",
              "      <td>20</td>\n",
              "      <td>60</td>\n",
              "      <td>62</td>\n",
              "      <td>240</td>\n",
              "      <td>6</td>\n",
              "      <td>0.006638</td>\n",
              "    </tr>\n",
              "    <tr>\n",
              "      <th>3</th>\n",
              "      <td>Air Cargo Problem 1</td>\n",
              "      <td>greedy_best_first_graph_search h_unmet_goals</td>\n",
              "      <td>20</td>\n",
              "      <td>7</td>\n",
              "      <td>9</td>\n",
              "      <td>29</td>\n",
              "      <td>6</td>\n",
              "      <td>0.001128</td>\n",
              "    </tr>\n",
              "    <tr>\n",
              "      <th>4</th>\n",
              "      <td>Air Cargo Problem 1</td>\n",
              "      <td>greedy_best_first_graph_search h_pg_levelsum</td>\n",
              "      <td>20</td>\n",
              "      <td>6</td>\n",
              "      <td>8</td>\n",
              "      <td>28</td>\n",
              "      <td>6</td>\n",
              "      <td>0.076109</td>\n",
              "    </tr>\n",
              "    <tr>\n",
              "      <th>5</th>\n",
              "      <td>Air Cargo Problem 1</td>\n",
              "      <td>greedy_best_first_graph_search h_pg_maxlevel</td>\n",
              "      <td>20</td>\n",
              "      <td>6</td>\n",
              "      <td>8</td>\n",
              "      <td>24</td>\n",
              "      <td>6</td>\n",
              "      <td>0.053792</td>\n",
              "    </tr>\n",
              "    <tr>\n",
              "      <th>6</th>\n",
              "      <td>Air Cargo Problem 1</td>\n",
              "      <td>greedy_best_first_graph_search h_pg_setlevel</td>\n",
              "      <td>20</td>\n",
              "      <td>6</td>\n",
              "      <td>8</td>\n",
              "      <td>28</td>\n",
              "      <td>6</td>\n",
              "      <td>0.261131</td>\n",
              "    </tr>\n",
              "    <tr>\n",
              "      <th>7</th>\n",
              "      <td>Air Cargo Problem 1</td>\n",
              "      <td>astar_search h_unmet_goals</td>\n",
              "      <td>20</td>\n",
              "      <td>50</td>\n",
              "      <td>52</td>\n",
              "      <td>206</td>\n",
              "      <td>6</td>\n",
              "      <td>0.006688</td>\n",
              "    </tr>\n",
              "    <tr>\n",
              "      <th>8</th>\n",
              "      <td>Air Cargo Problem 1</td>\n",
              "      <td>astar_search h_pg_levelsum</td>\n",
              "      <td>20</td>\n",
              "      <td>28</td>\n",
              "      <td>30</td>\n",
              "      <td>122</td>\n",
              "      <td>6</td>\n",
              "      <td>0.186529</td>\n",
              "    </tr>\n",
              "    <tr>\n",
              "      <th>9</th>\n",
              "      <td>Air Cargo Problem 1</td>\n",
              "      <td>astar_search h_pg_maxlevel</td>\n",
              "      <td>20</td>\n",
              "      <td>43</td>\n",
              "      <td>45</td>\n",
              "      <td>180</td>\n",
              "      <td>6</td>\n",
              "      <td>0.198359</td>\n",
              "    </tr>\n",
              "    <tr>\n",
              "      <th>10</th>\n",
              "      <td>Air Cargo Problem 1</td>\n",
              "      <td>astar_search h_pg_setlevel</td>\n",
              "      <td>20</td>\n",
              "      <td>33</td>\n",
              "      <td>35</td>\n",
              "      <td>138</td>\n",
              "      <td>6</td>\n",
              "      <td>0.636128</td>\n",
              "    </tr>\n",
              "  </tbody>\n",
              "</table>\n",
              "</div>"
            ],
            "text/plain": [
              "                Problem  ...      Time\n",
              "0   Air Cargo Problem 1  ...  0.004324\n",
              "1   Air Cargo Problem 1  ...  0.002299\n",
              "2   Air Cargo Problem 1  ...  0.006638\n",
              "3   Air Cargo Problem 1  ...  0.001128\n",
              "4   Air Cargo Problem 1  ...  0.076109\n",
              "5   Air Cargo Problem 1  ...  0.053792\n",
              "6   Air Cargo Problem 1  ...  0.261131\n",
              "7   Air Cargo Problem 1  ...  0.006688\n",
              "8   Air Cargo Problem 1  ...  0.186529\n",
              "9   Air Cargo Problem 1  ...  0.198359\n",
              "10  Air Cargo Problem 1  ...  0.636128\n",
              "\n",
              "[11 rows x 8 columns]"
            ]
          },
          "metadata": {
            "tags": []
          },
          "execution_count": 7
        }
      ]
    },
    {
      "cell_type": "markdown",
      "metadata": {
        "id": "kPkjvQlmwpm0",
        "colab_type": "text"
      },
      "source": [
        "For Problem 2:"
      ]
    },
    {
      "cell_type": "code",
      "metadata": {
        "id": "TZR_OekIwrmf",
        "colab_type": "code",
        "colab": {
          "base_uri": "https://localhost:8080/",
          "height": 390
        },
        "outputId": "efd4a874-8797-43f7-caf2-dbfc19c8a49c"
      },
      "source": [
        "prob_2 = pd.read_excel('planning.xlsx', sheet_name='problem_2', skiprows=2)\n",
        "prob_2"
      ],
      "execution_count": null,
      "outputs": [
        {
          "output_type": "execute_result",
          "data": {
            "text/html": [
              "<div>\n",
              "<style scoped>\n",
              "    .dataframe tbody tr th:only-of-type {\n",
              "        vertical-align: middle;\n",
              "    }\n",
              "\n",
              "    .dataframe tbody tr th {\n",
              "        vertical-align: top;\n",
              "    }\n",
              "\n",
              "    .dataframe thead th {\n",
              "        text-align: right;\n",
              "    }\n",
              "</style>\n",
              "<table border=\"1\" class=\"dataframe\">\n",
              "  <thead>\n",
              "    <tr style=\"text-align: right;\">\n",
              "      <th></th>\n",
              "      <th>Problem</th>\n",
              "      <th>Algorithm</th>\n",
              "      <th>Actions</th>\n",
              "      <th>Expansions</th>\n",
              "      <th>Goal_tests</th>\n",
              "      <th>New_nodes</th>\n",
              "      <th>Plan_length</th>\n",
              "      <th>Time</th>\n",
              "    </tr>\n",
              "  </thead>\n",
              "  <tbody>\n",
              "    <tr>\n",
              "      <th>0</th>\n",
              "      <td>Air Cargo Problem 2</td>\n",
              "      <td>breadth_first_search</td>\n",
              "      <td>72</td>\n",
              "      <td>3343</td>\n",
              "      <td>4609</td>\n",
              "      <td>30503</td>\n",
              "      <td>9</td>\n",
              "      <td>1.412719</td>\n",
              "    </tr>\n",
              "    <tr>\n",
              "      <th>1</th>\n",
              "      <td>Air Cargo Problem 2</td>\n",
              "      <td>depth_first_graph_search</td>\n",
              "      <td>72</td>\n",
              "      <td>624</td>\n",
              "      <td>625</td>\n",
              "      <td>5602</td>\n",
              "      <td>619</td>\n",
              "      <td>1.813666</td>\n",
              "    </tr>\n",
              "    <tr>\n",
              "      <th>2</th>\n",
              "      <td>Air Cargo Problem 2</td>\n",
              "      <td>uniform_cost_search</td>\n",
              "      <td>72</td>\n",
              "      <td>5154</td>\n",
              "      <td>5156</td>\n",
              "      <td>46618</td>\n",
              "      <td>9</td>\n",
              "      <td>2.400566</td>\n",
              "    </tr>\n",
              "    <tr>\n",
              "      <th>3</th>\n",
              "      <td>Air Cargo Problem 2</td>\n",
              "      <td>greedy_best_first_graph_search h_unmet_goals</td>\n",
              "      <td>72</td>\n",
              "      <td>17</td>\n",
              "      <td>19</td>\n",
              "      <td>170</td>\n",
              "      <td>9</td>\n",
              "      <td>0.014487</td>\n",
              "    </tr>\n",
              "    <tr>\n",
              "      <th>4</th>\n",
              "      <td>Air Cargo Problem 2</td>\n",
              "      <td>greedy_best_first_graph_search h_pg_levelsum</td>\n",
              "      <td>72</td>\n",
              "      <td>9</td>\n",
              "      <td>11</td>\n",
              "      <td>86</td>\n",
              "      <td>9</td>\n",
              "      <td>1.578095</td>\n",
              "    </tr>\n",
              "    <tr>\n",
              "      <th>5</th>\n",
              "      <td>Air Cargo Problem 2</td>\n",
              "      <td>greedy_best_first_graph_search h_pg_maxlevel</td>\n",
              "      <td>72</td>\n",
              "      <td>27</td>\n",
              "      <td>29</td>\n",
              "      <td>249</td>\n",
              "      <td>9</td>\n",
              "      <td>2.507638</td>\n",
              "    </tr>\n",
              "    <tr>\n",
              "      <th>6</th>\n",
              "      <td>Air Cargo Problem 2</td>\n",
              "      <td>greedy_best_first_graph_search h_pg_setlevel</td>\n",
              "      <td>72</td>\n",
              "      <td>9</td>\n",
              "      <td>11</td>\n",
              "      <td>84</td>\n",
              "      <td>9</td>\n",
              "      <td>6.143889</td>\n",
              "    </tr>\n",
              "    <tr>\n",
              "      <th>7</th>\n",
              "      <td>Air Cargo Problem 2</td>\n",
              "      <td>astar_search h_unmet_goals</td>\n",
              "      <td>72</td>\n",
              "      <td>2467</td>\n",
              "      <td>2469</td>\n",
              "      <td>22522</td>\n",
              "      <td>9</td>\n",
              "      <td>1.584434</td>\n",
              "    </tr>\n",
              "    <tr>\n",
              "      <th>8</th>\n",
              "      <td>Air Cargo Problem 2</td>\n",
              "      <td>astar_search h_pg_levelsum</td>\n",
              "      <td>72</td>\n",
              "      <td>357</td>\n",
              "      <td>359</td>\n",
              "      <td>3426</td>\n",
              "      <td>9</td>\n",
              "      <td>65.294872</td>\n",
              "    </tr>\n",
              "    <tr>\n",
              "      <th>9</th>\n",
              "      <td>Air Cargo Problem 2</td>\n",
              "      <td>astar_search h_pg_maxlevel</td>\n",
              "      <td>72</td>\n",
              "      <td>2887</td>\n",
              "      <td>2889</td>\n",
              "      <td>26594</td>\n",
              "      <td>9</td>\n",
              "      <td>261.383882</td>\n",
              "    </tr>\n",
              "    <tr>\n",
              "      <th>10</th>\n",
              "      <td>Air Cargo Problem 2</td>\n",
              "      <td>astar_search h_pg_setlevel</td>\n",
              "      <td>72</td>\n",
              "      <td>1037</td>\n",
              "      <td>1039</td>\n",
              "      <td>9605</td>\n",
              "      <td>9</td>\n",
              "      <td>569.003531</td>\n",
              "    </tr>\n",
              "  </tbody>\n",
              "</table>\n",
              "</div>"
            ],
            "text/plain": [
              "                Problem  ...        Time\n",
              "0   Air Cargo Problem 2  ...    1.412719\n",
              "1   Air Cargo Problem 2  ...    1.813666\n",
              "2   Air Cargo Problem 2  ...    2.400566\n",
              "3   Air Cargo Problem 2  ...    0.014487\n",
              "4   Air Cargo Problem 2  ...    1.578095\n",
              "5   Air Cargo Problem 2  ...    2.507638\n",
              "6   Air Cargo Problem 2  ...    6.143889\n",
              "7   Air Cargo Problem 2  ...    1.584434\n",
              "8   Air Cargo Problem 2  ...   65.294872\n",
              "9   Air Cargo Problem 2  ...  261.383882\n",
              "10  Air Cargo Problem 2  ...  569.003531\n",
              "\n",
              "[11 rows x 8 columns]"
            ]
          },
          "metadata": {
            "tags": []
          },
          "execution_count": 11
        }
      ]
    },
    {
      "cell_type": "markdown",
      "metadata": {
        "id": "TY4zFSZrwzdj",
        "colab_type": "text"
      },
      "source": [
        "For problem 3"
      ]
    },
    {
      "cell_type": "code",
      "metadata": {
        "id": "JsbqNvJ2w1Ts",
        "colab_type": "code",
        "colab": {
          "base_uri": "https://localhost:8080/",
          "height": 235
        },
        "outputId": "f7140e8f-4744-471c-e9ed-6a31b3d7e7f5"
      },
      "source": [
        "prob_3 = pd.read_excel('planning.xlsx', sheet_name='problem _3', skiprows=2)\n",
        "prob_3"
      ],
      "execution_count": null,
      "outputs": [
        {
          "output_type": "execute_result",
          "data": {
            "text/html": [
              "<div>\n",
              "<style scoped>\n",
              "    .dataframe tbody tr th:only-of-type {\n",
              "        vertical-align: middle;\n",
              "    }\n",
              "\n",
              "    .dataframe tbody tr th {\n",
              "        vertical-align: top;\n",
              "    }\n",
              "\n",
              "    .dataframe thead th {\n",
              "        text-align: right;\n",
              "    }\n",
              "</style>\n",
              "<table border=\"1\" class=\"dataframe\">\n",
              "  <thead>\n",
              "    <tr style=\"text-align: right;\">\n",
              "      <th></th>\n",
              "      <th>Problem</th>\n",
              "      <th>Algorithm</th>\n",
              "      <th>Actions</th>\n",
              "      <th>Expansions</th>\n",
              "      <th>Goal_tests</th>\n",
              "      <th>New_nodes</th>\n",
              "      <th>Plan_length</th>\n",
              "      <th>Time</th>\n",
              "    </tr>\n",
              "  </thead>\n",
              "  <tbody>\n",
              "    <tr>\n",
              "      <th>0</th>\n",
              "      <td>Air Cargo Problem 3</td>\n",
              "      <td>breadth_first_search</td>\n",
              "      <td>88</td>\n",
              "      <td>14663</td>\n",
              "      <td>18098</td>\n",
              "      <td>129625</td>\n",
              "      <td>12</td>\n",
              "      <td>7.490619</td>\n",
              "    </tr>\n",
              "    <tr>\n",
              "      <th>1</th>\n",
              "      <td>Air Cargo Problem 3</td>\n",
              "      <td>depth_first_graph_search</td>\n",
              "      <td>88</td>\n",
              "      <td>408</td>\n",
              "      <td>409</td>\n",
              "      <td>3364</td>\n",
              "      <td>392</td>\n",
              "      <td>0.894157</td>\n",
              "    </tr>\n",
              "    <tr>\n",
              "      <th>2</th>\n",
              "      <td>Air Cargo Problem 3</td>\n",
              "      <td>greedy_best_first_graph_search h_unmet_goals</td>\n",
              "      <td>88</td>\n",
              "      <td>25</td>\n",
              "      <td>27</td>\n",
              "      <td>230</td>\n",
              "      <td>15</td>\n",
              "      <td>0.030409</td>\n",
              "    </tr>\n",
              "    <tr>\n",
              "      <th>3</th>\n",
              "      <td>Air Cargo Problem 3</td>\n",
              "      <td>greedy_best_first_graph_search h_pg_levelsum</td>\n",
              "      <td>88</td>\n",
              "      <td>14</td>\n",
              "      <td>16</td>\n",
              "      <td>126</td>\n",
              "      <td>14</td>\n",
              "      <td>5.022938</td>\n",
              "    </tr>\n",
              "    <tr>\n",
              "      <th>4</th>\n",
              "      <td>Air Cargo Problem 3</td>\n",
              "      <td>astar_search h_unmet_goals</td>\n",
              "      <td>88</td>\n",
              "      <td>7388</td>\n",
              "      <td>7390</td>\n",
              "      <td>65711</td>\n",
              "      <td>12</td>\n",
              "      <td>9.222211</td>\n",
              "    </tr>\n",
              "    <tr>\n",
              "      <th>5</th>\n",
              "      <td>Air Cargo Problem 3</td>\n",
              "      <td>astar_search h_pg_levelsum</td>\n",
              "      <td>88</td>\n",
              "      <td>369</td>\n",
              "      <td>371</td>\n",
              "      <td>3403</td>\n",
              "      <td>12</td>\n",
              "      <td>93.623633</td>\n",
              "    </tr>\n",
              "  </tbody>\n",
              "</table>\n",
              "</div>"
            ],
            "text/plain": [
              "               Problem  ...       Time\n",
              "0  Air Cargo Problem 3  ...   7.490619\n",
              "1  Air Cargo Problem 3  ...   0.894157\n",
              "2  Air Cargo Problem 3  ...   0.030409\n",
              "3  Air Cargo Problem 3  ...   5.022938\n",
              "4  Air Cargo Problem 3  ...   9.222211\n",
              "5  Air Cargo Problem 3  ...  93.623633\n",
              "\n",
              "[6 rows x 8 columns]"
            ]
          },
          "metadata": {
            "tags": []
          },
          "execution_count": 21
        }
      ]
    },
    {
      "cell_type": "markdown",
      "metadata": {
        "id": "2OO4FYXcxMOy",
        "colab_type": "text"
      },
      "source": [
        "For problem 4"
      ]
    },
    {
      "cell_type": "code",
      "metadata": {
        "id": "UBrHPtZsxPaj",
        "colab_type": "code",
        "colab": {
          "base_uri": "https://localhost:8080/",
          "height": 235
        },
        "outputId": "675928aa-2e7c-4291-c250-37a684a430b7"
      },
      "source": [
        "prob_4 = pd.read_excel('planning.xlsx', sheet_name='problem_4', skiprows=2)\n",
        "prob_4"
      ],
      "execution_count": null,
      "outputs": [
        {
          "output_type": "execute_result",
          "data": {
            "text/html": [
              "<div>\n",
              "<style scoped>\n",
              "    .dataframe tbody tr th:only-of-type {\n",
              "        vertical-align: middle;\n",
              "    }\n",
              "\n",
              "    .dataframe tbody tr th {\n",
              "        vertical-align: top;\n",
              "    }\n",
              "\n",
              "    .dataframe thead th {\n",
              "        text-align: right;\n",
              "    }\n",
              "</style>\n",
              "<table border=\"1\" class=\"dataframe\">\n",
              "  <thead>\n",
              "    <tr style=\"text-align: right;\">\n",
              "      <th></th>\n",
              "      <th>Problem</th>\n",
              "      <th>Algorithm</th>\n",
              "      <th>Actions</th>\n",
              "      <th>Expansions</th>\n",
              "      <th>Goal_tests</th>\n",
              "      <th>New_nodes</th>\n",
              "      <th>Plan_length</th>\n",
              "      <th>Time</th>\n",
              "    </tr>\n",
              "  </thead>\n",
              "  <tbody>\n",
              "    <tr>\n",
              "      <th>0</th>\n",
              "      <td>Air Cargo Problem 4</td>\n",
              "      <td>breadth_first_search</td>\n",
              "      <td>104</td>\n",
              "      <td>99736</td>\n",
              "      <td>114953</td>\n",
              "      <td>944130</td>\n",
              "      <td>14</td>\n",
              "      <td>72.864881</td>\n",
              "    </tr>\n",
              "    <tr>\n",
              "      <th>1</th>\n",
              "      <td>Air Cargo Problem 4</td>\n",
              "      <td>depth_first_graph_search</td>\n",
              "      <td>104</td>\n",
              "      <td>25174</td>\n",
              "      <td>25175</td>\n",
              "      <td>228849</td>\n",
              "      <td>24132</td>\n",
              "      <td>2465.383703</td>\n",
              "    </tr>\n",
              "    <tr>\n",
              "      <th>2</th>\n",
              "      <td>Air Cargo Problem 4</td>\n",
              "      <td>greedy_best_first_graph_search h_unmet_goals</td>\n",
              "      <td>104</td>\n",
              "      <td>29</td>\n",
              "      <td>31</td>\n",
              "      <td>280</td>\n",
              "      <td>18</td>\n",
              "      <td>0.037212</td>\n",
              "    </tr>\n",
              "    <tr>\n",
              "      <th>3</th>\n",
              "      <td>Air Cargo Problem 4</td>\n",
              "      <td>greedy_best_first_graph_search h_pg_levelsum</td>\n",
              "      <td>104</td>\n",
              "      <td>17</td>\n",
              "      <td>19</td>\n",
              "      <td>165</td>\n",
              "      <td>17</td>\n",
              "      <td>6.834336</td>\n",
              "    </tr>\n",
              "    <tr>\n",
              "      <th>4</th>\n",
              "      <td>Air Cargo Problem 4</td>\n",
              "      <td>astar_search h_unmet_goals</td>\n",
              "      <td>104</td>\n",
              "      <td>34330</td>\n",
              "      <td>34332</td>\n",
              "      <td>328509</td>\n",
              "      <td>14</td>\n",
              "      <td>50.453265</td>\n",
              "    </tr>\n",
              "    <tr>\n",
              "      <th>5</th>\n",
              "      <td>Air Cargo Problem 4</td>\n",
              "      <td>astar_search h_pg_levelsum</td>\n",
              "      <td>104</td>\n",
              "      <td>1208</td>\n",
              "      <td>1210</td>\n",
              "      <td>12210</td>\n",
              "      <td>15</td>\n",
              "      <td>600.920339</td>\n",
              "    </tr>\n",
              "  </tbody>\n",
              "</table>\n",
              "</div>"
            ],
            "text/plain": [
              "               Problem  ...         Time\n",
              "0  Air Cargo Problem 4  ...    72.864881\n",
              "1  Air Cargo Problem 4  ...  2465.383703\n",
              "2  Air Cargo Problem 4  ...     0.037212\n",
              "3  Air Cargo Problem 4  ...     6.834336\n",
              "4  Air Cargo Problem 4  ...    50.453265\n",
              "5  Air Cargo Problem 4  ...   600.920339\n",
              "\n",
              "[6 rows x 8 columns]"
            ]
          },
          "metadata": {
            "tags": []
          },
          "execution_count": 15
        }
      ]
    }
  ]
}