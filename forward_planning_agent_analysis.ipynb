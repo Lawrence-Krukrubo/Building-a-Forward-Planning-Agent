{
  "nbformat": 4,
  "nbformat_minor": 0,
  "metadata": {
    "colab": {
      "name": "forward_planning_agent_analysis.ipynb",
      "provenance": [],
      "collapsed_sections": [],
      "authorship_tag": "ABX9TyMcAalWmeKcxXTJbmucjbbe",
      "include_colab_link": true
    },
    "kernelspec": {
      "name": "python3",
      "display_name": "Python 3"
    }
  },
  "cells": [
    {
      "cell_type": "markdown",
      "metadata": {
        "id": "view-in-github",
        "colab_type": "text"
      },
      "source": [
        "<a href=\"https://colab.research.google.com/github/Lawrence-Krukrubo/Building-a-Forward-Planning-Agent/blob/master/forward_planning_agent_analysis.ipynb\" target=\"_parent\"><img src=\"https://colab.research.google.com/assets/colab-badge.svg\" alt=\"Open In Colab\"/></a>"
      ]
    },
    {
      "cell_type": "code",
      "metadata": {
        "id": "PiwNoa8Ft75x",
        "colab_type": "code",
        "colab": {}
      },
      "source": [
        "import pandas as pd\n",
        "import numpy as np\n",
        "import matplotlib.pyplot as plt\n",
        "import seaborn as sns"
      ],
      "execution_count": null,
      "outputs": []
    },
    {
      "cell_type": "code",
      "metadata": {
        "id": "dm8icxW-Y-Bu",
        "colab_type": "code",
        "colab": {
          "base_uri": "https://localhost:8080/",
          "height": 204
        },
        "outputId": "e7321833-0f68-4d2c-e511-df4ee13dc91e"
      },
      "source": [
        "!rm planning.xlsx\n",
        "!wget https://storage.googleapis.com/law1010/AIND_project_3_experiment.xlsx -O planning.xlsx"
      ],
      "execution_count": null,
      "outputs": [
        {
          "output_type": "stream",
          "text": [
            "--2020-09-17 12:38:56--  https://storage.googleapis.com/law1010/AIND_project_3_experiment.xlsx\n",
            "Resolving storage.googleapis.com (storage.googleapis.com)... 108.177.97.128, 2404:6800:4008:c03::80, 2404:6800:4008:c04::80, ...\n",
            "Connecting to storage.googleapis.com (storage.googleapis.com)|108.177.97.128|:443... connected.\n",
            "HTTP request sent, awaiting response... 200 OK\n",
            "Length: 11205 (11K) [application/vnd.openxmlformats-officedocument.spreadsheetml.sheet]\n",
            "Saving to: ‘planning.xlsx’\n",
            "\n",
            "planning.xlsx       100%[===================>]  10.94K  --.-KB/s    in 0s      \n",
            "\n",
            "2020-09-17 12:38:57 (78.5 MB/s) - ‘planning.xlsx’ saved [11205/11205]\n",
            "\n"
          ],
          "name": "stdout"
        }
      ]
    },
    {
      "cell_type": "code",
      "metadata": {
        "id": "MktK1UzkxuzD",
        "colab_type": "code",
        "colab": {
          "base_uri": "https://localhost:8080/",
          "height": 34
        },
        "outputId": "c9a84a23-2f4b-41fb-8c3d-dbc8a9b6ad49"
      },
      "source": [
        "xls = pd.ExcelFile('planning.xlsx')\n",
        "print(type(xls))"
      ],
      "execution_count": null,
      "outputs": [
        {
          "output_type": "stream",
          "text": [
            "<class 'pandas.io.excel._base.ExcelFile'>\n"
          ],
          "name": "stdout"
        }
      ]
    },
    {
      "cell_type": "markdown",
      "metadata": {
        "id": "m0pLIkUSVl7V",
        "colab_type": "text"
      },
      "source": [
        "Let's see the sheet names"
      ]
    },
    {
      "cell_type": "code",
      "metadata": {
        "id": "aAxuG-9EyFXl",
        "colab_type": "code",
        "colab": {
          "base_uri": "https://localhost:8080/",
          "height": 34
        },
        "outputId": "653de12a-f0e9-40f0-f066-c888f2214c36"
      },
      "source": [
        "print(xls.sheet_names)"
      ],
      "execution_count": null,
      "outputs": [
        {
          "output_type": "stream",
          "text": [
            "['problem_1', 'problem_2', 'problem _3', 'problem_4']\n"
          ],
          "name": "stdout"
        }
      ]
    },
    {
      "cell_type": "code",
      "metadata": {
        "id": "Yjee8JhaukmP",
        "colab_type": "code",
        "colab": {
          "base_uri": "https://localhost:8080/",
          "height": 390
        },
        "outputId": "86264d91-ab58-4cfa-c1ad-3fa905a61323"
      },
      "source": [
        "prob_1 = pd.read_excel('planning.xlsx', sheet_name='problem_1', skiprows=2)\n",
        "prob_1"
      ],
      "execution_count": null,
      "outputs": [
        {
          "output_type": "execute_result",
          "data": {
            "text/html": [
              "<div>\n",
              "<style scoped>\n",
              "    .dataframe tbody tr th:only-of-type {\n",
              "        vertical-align: middle;\n",
              "    }\n",
              "\n",
              "    .dataframe tbody tr th {\n",
              "        vertical-align: top;\n",
              "    }\n",
              "\n",
              "    .dataframe thead th {\n",
              "        text-align: right;\n",
              "    }\n",
              "</style>\n",
              "<table border=\"1\" class=\"dataframe\">\n",
              "  <thead>\n",
              "    <tr style=\"text-align: right;\">\n",
              "      <th></th>\n",
              "      <th>Problem</th>\n",
              "      <th>Algorithm</th>\n",
              "      <th>Actions</th>\n",
              "      <th>Expansions</th>\n",
              "      <th>Goal_tests</th>\n",
              "      <th>New_nodes</th>\n",
              "      <th>Plan_length</th>\n",
              "      <th>Time</th>\n",
              "    </tr>\n",
              "  </thead>\n",
              "  <tbody>\n",
              "    <tr>\n",
              "      <th>0</th>\n",
              "      <td>Air Cargo Problem 1</td>\n",
              "      <td>breadth_first_search</td>\n",
              "      <td>20</td>\n",
              "      <td>43</td>\n",
              "      <td>56</td>\n",
              "      <td>178</td>\n",
              "      <td>6</td>\n",
              "      <td>0.004324</td>\n",
              "    </tr>\n",
              "    <tr>\n",
              "      <th>1</th>\n",
              "      <td>Air Cargo Problem 1</td>\n",
              "      <td>depth_first_graph_search</td>\n",
              "      <td>20</td>\n",
              "      <td>21</td>\n",
              "      <td>22</td>\n",
              "      <td>84</td>\n",
              "      <td>20</td>\n",
              "      <td>0.002299</td>\n",
              "    </tr>\n",
              "    <tr>\n",
              "      <th>2</th>\n",
              "      <td>Air Cargo Problem 1</td>\n",
              "      <td>uniform_cost_search</td>\n",
              "      <td>20</td>\n",
              "      <td>60</td>\n",
              "      <td>62</td>\n",
              "      <td>240</td>\n",
              "      <td>6</td>\n",
              "      <td>0.006638</td>\n",
              "    </tr>\n",
              "    <tr>\n",
              "      <th>3</th>\n",
              "      <td>Air Cargo Problem 1</td>\n",
              "      <td>greedy_best_first_graph_search h_unmet_goals</td>\n",
              "      <td>20</td>\n",
              "      <td>7</td>\n",
              "      <td>9</td>\n",
              "      <td>29</td>\n",
              "      <td>6</td>\n",
              "      <td>0.001128</td>\n",
              "    </tr>\n",
              "    <tr>\n",
              "      <th>4</th>\n",
              "      <td>Air Cargo Problem 1</td>\n",
              "      <td>greedy_best_first_graph_search h_pg_levelsum</td>\n",
              "      <td>20</td>\n",
              "      <td>6</td>\n",
              "      <td>8</td>\n",
              "      <td>28</td>\n",
              "      <td>6</td>\n",
              "      <td>0.076109</td>\n",
              "    </tr>\n",
              "    <tr>\n",
              "      <th>5</th>\n",
              "      <td>Air Cargo Problem 1</td>\n",
              "      <td>greedy_best_first_graph_search h_pg_maxlevel</td>\n",
              "      <td>20</td>\n",
              "      <td>6</td>\n",
              "      <td>8</td>\n",
              "      <td>24</td>\n",
              "      <td>6</td>\n",
              "      <td>0.053792</td>\n",
              "    </tr>\n",
              "    <tr>\n",
              "      <th>6</th>\n",
              "      <td>Air Cargo Problem 1</td>\n",
              "      <td>greedy_best_first_graph_search h_pg_setlevel</td>\n",
              "      <td>20</td>\n",
              "      <td>6</td>\n",
              "      <td>8</td>\n",
              "      <td>28</td>\n",
              "      <td>6</td>\n",
              "      <td>0.261131</td>\n",
              "    </tr>\n",
              "    <tr>\n",
              "      <th>7</th>\n",
              "      <td>Air Cargo Problem 1</td>\n",
              "      <td>astar_search h_unmet_goals</td>\n",
              "      <td>20</td>\n",
              "      <td>50</td>\n",
              "      <td>52</td>\n",
              "      <td>206</td>\n",
              "      <td>6</td>\n",
              "      <td>0.006688</td>\n",
              "    </tr>\n",
              "    <tr>\n",
              "      <th>8</th>\n",
              "      <td>Air Cargo Problem 1</td>\n",
              "      <td>astar_search h_pg_levelsum</td>\n",
              "      <td>20</td>\n",
              "      <td>28</td>\n",
              "      <td>30</td>\n",
              "      <td>122</td>\n",
              "      <td>6</td>\n",
              "      <td>0.186529</td>\n",
              "    </tr>\n",
              "    <tr>\n",
              "      <th>9</th>\n",
              "      <td>Air Cargo Problem 1</td>\n",
              "      <td>astar_search h_pg_maxlevel</td>\n",
              "      <td>20</td>\n",
              "      <td>43</td>\n",
              "      <td>45</td>\n",
              "      <td>180</td>\n",
              "      <td>6</td>\n",
              "      <td>0.198359</td>\n",
              "    </tr>\n",
              "    <tr>\n",
              "      <th>10</th>\n",
              "      <td>Air Cargo Problem 1</td>\n",
              "      <td>astar_search h_pg_setlevel</td>\n",
              "      <td>20</td>\n",
              "      <td>33</td>\n",
              "      <td>35</td>\n",
              "      <td>138</td>\n",
              "      <td>6</td>\n",
              "      <td>0.636128</td>\n",
              "    </tr>\n",
              "  </tbody>\n",
              "</table>\n",
              "</div>"
            ],
            "text/plain": [
              "                Problem  ...      Time\n",
              "0   Air Cargo Problem 1  ...  0.004324\n",
              "1   Air Cargo Problem 1  ...  0.002299\n",
              "2   Air Cargo Problem 1  ...  0.006638\n",
              "3   Air Cargo Problem 1  ...  0.001128\n",
              "4   Air Cargo Problem 1  ...  0.076109\n",
              "5   Air Cargo Problem 1  ...  0.053792\n",
              "6   Air Cargo Problem 1  ...  0.261131\n",
              "7   Air Cargo Problem 1  ...  0.006688\n",
              "8   Air Cargo Problem 1  ...  0.186529\n",
              "9   Air Cargo Problem 1  ...  0.198359\n",
              "10  Air Cargo Problem 1  ...  0.636128\n",
              "\n",
              "[11 rows x 8 columns]"
            ]
          },
          "metadata": {
            "tags": []
          },
          "execution_count": 51
        }
      ]
    },
    {
      "cell_type": "markdown",
      "metadata": {
        "id": "kPkjvQlmwpm0",
        "colab_type": "text"
      },
      "source": [
        "For Problem 2:"
      ]
    },
    {
      "cell_type": "code",
      "metadata": {
        "id": "TZR_OekIwrmf",
        "colab_type": "code",
        "colab": {
          "base_uri": "https://localhost:8080/",
          "height": 390
        },
        "outputId": "9575380d-4a2a-48a9-b3dd-fe689b453191"
      },
      "source": [
        "prob_2 = pd.read_excel('planning.xlsx', sheet_name='problem_2', skiprows=2)\n",
        "prob_2"
      ],
      "execution_count": null,
      "outputs": [
        {
          "output_type": "execute_result",
          "data": {
            "text/html": [
              "<div>\n",
              "<style scoped>\n",
              "    .dataframe tbody tr th:only-of-type {\n",
              "        vertical-align: middle;\n",
              "    }\n",
              "\n",
              "    .dataframe tbody tr th {\n",
              "        vertical-align: top;\n",
              "    }\n",
              "\n",
              "    .dataframe thead th {\n",
              "        text-align: right;\n",
              "    }\n",
              "</style>\n",
              "<table border=\"1\" class=\"dataframe\">\n",
              "  <thead>\n",
              "    <tr style=\"text-align: right;\">\n",
              "      <th></th>\n",
              "      <th>Problem</th>\n",
              "      <th>Algorithm</th>\n",
              "      <th>Actions</th>\n",
              "      <th>Expansions</th>\n",
              "      <th>Goal_tests</th>\n",
              "      <th>New_nodes</th>\n",
              "      <th>Plan_length</th>\n",
              "      <th>Time</th>\n",
              "    </tr>\n",
              "  </thead>\n",
              "  <tbody>\n",
              "    <tr>\n",
              "      <th>0</th>\n",
              "      <td>Air Cargo Problem 2</td>\n",
              "      <td>breadth_first_search</td>\n",
              "      <td>72</td>\n",
              "      <td>3343</td>\n",
              "      <td>4609</td>\n",
              "      <td>30503</td>\n",
              "      <td>9</td>\n",
              "      <td>1.412719</td>\n",
              "    </tr>\n",
              "    <tr>\n",
              "      <th>1</th>\n",
              "      <td>Air Cargo Problem 2</td>\n",
              "      <td>depth_first_graph_search</td>\n",
              "      <td>72</td>\n",
              "      <td>624</td>\n",
              "      <td>625</td>\n",
              "      <td>5602</td>\n",
              "      <td>619</td>\n",
              "      <td>1.813666</td>\n",
              "    </tr>\n",
              "    <tr>\n",
              "      <th>2</th>\n",
              "      <td>Air Cargo Problem 2</td>\n",
              "      <td>uniform_cost_search</td>\n",
              "      <td>72</td>\n",
              "      <td>5154</td>\n",
              "      <td>5156</td>\n",
              "      <td>46618</td>\n",
              "      <td>9</td>\n",
              "      <td>2.400566</td>\n",
              "    </tr>\n",
              "    <tr>\n",
              "      <th>3</th>\n",
              "      <td>Air Cargo Problem 2</td>\n",
              "      <td>greedy_best_first_graph_search h_unmet_goals</td>\n",
              "      <td>72</td>\n",
              "      <td>17</td>\n",
              "      <td>19</td>\n",
              "      <td>170</td>\n",
              "      <td>9</td>\n",
              "      <td>0.014487</td>\n",
              "    </tr>\n",
              "    <tr>\n",
              "      <th>4</th>\n",
              "      <td>Air Cargo Problem 2</td>\n",
              "      <td>greedy_best_first_graph_search h_pg_levelsum</td>\n",
              "      <td>72</td>\n",
              "      <td>9</td>\n",
              "      <td>11</td>\n",
              "      <td>86</td>\n",
              "      <td>9</td>\n",
              "      <td>1.578095</td>\n",
              "    </tr>\n",
              "    <tr>\n",
              "      <th>5</th>\n",
              "      <td>Air Cargo Problem 2</td>\n",
              "      <td>greedy_best_first_graph_search h_pg_maxlevel</td>\n",
              "      <td>72</td>\n",
              "      <td>27</td>\n",
              "      <td>29</td>\n",
              "      <td>249</td>\n",
              "      <td>9</td>\n",
              "      <td>2.507638</td>\n",
              "    </tr>\n",
              "    <tr>\n",
              "      <th>6</th>\n",
              "      <td>Air Cargo Problem 2</td>\n",
              "      <td>greedy_best_first_graph_search h_pg_setlevel</td>\n",
              "      <td>72</td>\n",
              "      <td>9</td>\n",
              "      <td>11</td>\n",
              "      <td>84</td>\n",
              "      <td>9</td>\n",
              "      <td>6.143889</td>\n",
              "    </tr>\n",
              "    <tr>\n",
              "      <th>7</th>\n",
              "      <td>Air Cargo Problem 2</td>\n",
              "      <td>astar_search h_unmet_goals</td>\n",
              "      <td>72</td>\n",
              "      <td>2467</td>\n",
              "      <td>2469</td>\n",
              "      <td>22522</td>\n",
              "      <td>9</td>\n",
              "      <td>1.584434</td>\n",
              "    </tr>\n",
              "    <tr>\n",
              "      <th>8</th>\n",
              "      <td>Air Cargo Problem 2</td>\n",
              "      <td>astar_search h_pg_levelsum</td>\n",
              "      <td>72</td>\n",
              "      <td>357</td>\n",
              "      <td>359</td>\n",
              "      <td>3426</td>\n",
              "      <td>9</td>\n",
              "      <td>65.294872</td>\n",
              "    </tr>\n",
              "    <tr>\n",
              "      <th>9</th>\n",
              "      <td>Air Cargo Problem 2</td>\n",
              "      <td>astar_search h_pg_maxlevel</td>\n",
              "      <td>72</td>\n",
              "      <td>2887</td>\n",
              "      <td>2889</td>\n",
              "      <td>26594</td>\n",
              "      <td>9</td>\n",
              "      <td>261.383882</td>\n",
              "    </tr>\n",
              "    <tr>\n",
              "      <th>10</th>\n",
              "      <td>Air Cargo Problem 2</td>\n",
              "      <td>astar_search h_pg_setlevel</td>\n",
              "      <td>72</td>\n",
              "      <td>1037</td>\n",
              "      <td>1039</td>\n",
              "      <td>9605</td>\n",
              "      <td>9</td>\n",
              "      <td>569.003531</td>\n",
              "    </tr>\n",
              "  </tbody>\n",
              "</table>\n",
              "</div>"
            ],
            "text/plain": [
              "                Problem  ...        Time\n",
              "0   Air Cargo Problem 2  ...    1.412719\n",
              "1   Air Cargo Problem 2  ...    1.813666\n",
              "2   Air Cargo Problem 2  ...    2.400566\n",
              "3   Air Cargo Problem 2  ...    0.014487\n",
              "4   Air Cargo Problem 2  ...    1.578095\n",
              "5   Air Cargo Problem 2  ...    2.507638\n",
              "6   Air Cargo Problem 2  ...    6.143889\n",
              "7   Air Cargo Problem 2  ...    1.584434\n",
              "8   Air Cargo Problem 2  ...   65.294872\n",
              "9   Air Cargo Problem 2  ...  261.383882\n",
              "10  Air Cargo Problem 2  ...  569.003531\n",
              "\n",
              "[11 rows x 8 columns]"
            ]
          },
          "metadata": {
            "tags": []
          },
          "execution_count": 52
        }
      ]
    },
    {
      "cell_type": "markdown",
      "metadata": {
        "id": "TY4zFSZrwzdj",
        "colab_type": "text"
      },
      "source": [
        "For problem 3"
      ]
    },
    {
      "cell_type": "code",
      "metadata": {
        "id": "JsbqNvJ2w1Ts",
        "colab_type": "code",
        "colab": {
          "base_uri": "https://localhost:8080/",
          "height": 235
        },
        "outputId": "a5a685cf-08ee-4099-af73-e36c69efaae8"
      },
      "source": [
        "prob_3 = pd.read_excel('planning.xlsx', sheet_name='problem _3', skiprows=2)\n",
        "prob_3"
      ],
      "execution_count": null,
      "outputs": [
        {
          "output_type": "execute_result",
          "data": {
            "text/html": [
              "<div>\n",
              "<style scoped>\n",
              "    .dataframe tbody tr th:only-of-type {\n",
              "        vertical-align: middle;\n",
              "    }\n",
              "\n",
              "    .dataframe tbody tr th {\n",
              "        vertical-align: top;\n",
              "    }\n",
              "\n",
              "    .dataframe thead th {\n",
              "        text-align: right;\n",
              "    }\n",
              "</style>\n",
              "<table border=\"1\" class=\"dataframe\">\n",
              "  <thead>\n",
              "    <tr style=\"text-align: right;\">\n",
              "      <th></th>\n",
              "      <th>Problem</th>\n",
              "      <th>Algorithm</th>\n",
              "      <th>Actions</th>\n",
              "      <th>Expansions</th>\n",
              "      <th>Goal_tests</th>\n",
              "      <th>New_nodes</th>\n",
              "      <th>Plan_length</th>\n",
              "      <th>Time</th>\n",
              "    </tr>\n",
              "  </thead>\n",
              "  <tbody>\n",
              "    <tr>\n",
              "      <th>0</th>\n",
              "      <td>Air Cargo Problem 3</td>\n",
              "      <td>breadth_first_search</td>\n",
              "      <td>88</td>\n",
              "      <td>14663</td>\n",
              "      <td>18098</td>\n",
              "      <td>129625</td>\n",
              "      <td>12</td>\n",
              "      <td>7.490619</td>\n",
              "    </tr>\n",
              "    <tr>\n",
              "      <th>1</th>\n",
              "      <td>Air Cargo Problem 3</td>\n",
              "      <td>depth_first_graph_search</td>\n",
              "      <td>88</td>\n",
              "      <td>408</td>\n",
              "      <td>409</td>\n",
              "      <td>3364</td>\n",
              "      <td>392</td>\n",
              "      <td>0.894157</td>\n",
              "    </tr>\n",
              "    <tr>\n",
              "      <th>2</th>\n",
              "      <td>Air Cargo Problem 3</td>\n",
              "      <td>greedy_best_first_graph_search h_unmet_goals</td>\n",
              "      <td>88</td>\n",
              "      <td>25</td>\n",
              "      <td>27</td>\n",
              "      <td>230</td>\n",
              "      <td>15</td>\n",
              "      <td>0.030409</td>\n",
              "    </tr>\n",
              "    <tr>\n",
              "      <th>3</th>\n",
              "      <td>Air Cargo Problem 3</td>\n",
              "      <td>greedy_best_first_graph_search h_pg_levelsum</td>\n",
              "      <td>88</td>\n",
              "      <td>14</td>\n",
              "      <td>16</td>\n",
              "      <td>126</td>\n",
              "      <td>14</td>\n",
              "      <td>5.022938</td>\n",
              "    </tr>\n",
              "    <tr>\n",
              "      <th>4</th>\n",
              "      <td>Air Cargo Problem 3</td>\n",
              "      <td>astar_search h_unmet_goals</td>\n",
              "      <td>88</td>\n",
              "      <td>7388</td>\n",
              "      <td>7390</td>\n",
              "      <td>65711</td>\n",
              "      <td>12</td>\n",
              "      <td>9.222211</td>\n",
              "    </tr>\n",
              "    <tr>\n",
              "      <th>5</th>\n",
              "      <td>Air Cargo Problem 3</td>\n",
              "      <td>astar_search h_pg_levelsum</td>\n",
              "      <td>88</td>\n",
              "      <td>369</td>\n",
              "      <td>371</td>\n",
              "      <td>3403</td>\n",
              "      <td>12</td>\n",
              "      <td>93.623633</td>\n",
              "    </tr>\n",
              "  </tbody>\n",
              "</table>\n",
              "</div>"
            ],
            "text/plain": [
              "               Problem  ...       Time\n",
              "0  Air Cargo Problem 3  ...   7.490619\n",
              "1  Air Cargo Problem 3  ...   0.894157\n",
              "2  Air Cargo Problem 3  ...   0.030409\n",
              "3  Air Cargo Problem 3  ...   5.022938\n",
              "4  Air Cargo Problem 3  ...   9.222211\n",
              "5  Air Cargo Problem 3  ...  93.623633\n",
              "\n",
              "[6 rows x 8 columns]"
            ]
          },
          "metadata": {
            "tags": []
          },
          "execution_count": 53
        }
      ]
    },
    {
      "cell_type": "markdown",
      "metadata": {
        "id": "2OO4FYXcxMOy",
        "colab_type": "text"
      },
      "source": [
        "For problem 4"
      ]
    },
    {
      "cell_type": "code",
      "metadata": {
        "id": "UBrHPtZsxPaj",
        "colab_type": "code",
        "colab": {
          "base_uri": "https://localhost:8080/",
          "height": 235
        },
        "outputId": "68b1f546-552e-4e7e-b5b5-c6fd6688e5e6"
      },
      "source": [
        "prob_4 = pd.read_excel('planning.xlsx', sheet_name='problem_4', skiprows=2)\n",
        "prob_4"
      ],
      "execution_count": null,
      "outputs": [
        {
          "output_type": "execute_result",
          "data": {
            "text/html": [
              "<div>\n",
              "<style scoped>\n",
              "    .dataframe tbody tr th:only-of-type {\n",
              "        vertical-align: middle;\n",
              "    }\n",
              "\n",
              "    .dataframe tbody tr th {\n",
              "        vertical-align: top;\n",
              "    }\n",
              "\n",
              "    .dataframe thead th {\n",
              "        text-align: right;\n",
              "    }\n",
              "</style>\n",
              "<table border=\"1\" class=\"dataframe\">\n",
              "  <thead>\n",
              "    <tr style=\"text-align: right;\">\n",
              "      <th></th>\n",
              "      <th>Problem</th>\n",
              "      <th>Algorithm</th>\n",
              "      <th>Actions</th>\n",
              "      <th>Expansions</th>\n",
              "      <th>Goal_tests</th>\n",
              "      <th>New_nodes</th>\n",
              "      <th>Plan_length</th>\n",
              "      <th>Time</th>\n",
              "    </tr>\n",
              "  </thead>\n",
              "  <tbody>\n",
              "    <tr>\n",
              "      <th>0</th>\n",
              "      <td>Air Cargo Problem 4</td>\n",
              "      <td>breadth_first_search</td>\n",
              "      <td>104</td>\n",
              "      <td>99736</td>\n",
              "      <td>114953</td>\n",
              "      <td>944130</td>\n",
              "      <td>14</td>\n",
              "      <td>72.864881</td>\n",
              "    </tr>\n",
              "    <tr>\n",
              "      <th>1</th>\n",
              "      <td>Air Cargo Problem 4</td>\n",
              "      <td>depth_first_graph_search</td>\n",
              "      <td>104</td>\n",
              "      <td>25174</td>\n",
              "      <td>25175</td>\n",
              "      <td>228849</td>\n",
              "      <td>24132</td>\n",
              "      <td>2465.383703</td>\n",
              "    </tr>\n",
              "    <tr>\n",
              "      <th>2</th>\n",
              "      <td>Air Cargo Problem 4</td>\n",
              "      <td>greedy_best_first_graph_search h_unmet_goals</td>\n",
              "      <td>104</td>\n",
              "      <td>29</td>\n",
              "      <td>31</td>\n",
              "      <td>280</td>\n",
              "      <td>18</td>\n",
              "      <td>0.037212</td>\n",
              "    </tr>\n",
              "    <tr>\n",
              "      <th>3</th>\n",
              "      <td>Air Cargo Problem 4</td>\n",
              "      <td>greedy_best_first_graph_search h_pg_levelsum</td>\n",
              "      <td>104</td>\n",
              "      <td>17</td>\n",
              "      <td>19</td>\n",
              "      <td>165</td>\n",
              "      <td>17</td>\n",
              "      <td>6.834336</td>\n",
              "    </tr>\n",
              "    <tr>\n",
              "      <th>4</th>\n",
              "      <td>Air Cargo Problem 4</td>\n",
              "      <td>astar_search h_unmet_goals</td>\n",
              "      <td>104</td>\n",
              "      <td>34330</td>\n",
              "      <td>34332</td>\n",
              "      <td>328509</td>\n",
              "      <td>14</td>\n",
              "      <td>50.453265</td>\n",
              "    </tr>\n",
              "    <tr>\n",
              "      <th>5</th>\n",
              "      <td>Air Cargo Problem 4</td>\n",
              "      <td>astar_search h_pg_levelsum</td>\n",
              "      <td>104</td>\n",
              "      <td>1208</td>\n",
              "      <td>1210</td>\n",
              "      <td>12210</td>\n",
              "      <td>15</td>\n",
              "      <td>600.920339</td>\n",
              "    </tr>\n",
              "  </tbody>\n",
              "</table>\n",
              "</div>"
            ],
            "text/plain": [
              "               Problem  ...         Time\n",
              "0  Air Cargo Problem 4  ...    72.864881\n",
              "1  Air Cargo Problem 4  ...  2465.383703\n",
              "2  Air Cargo Problem 4  ...     0.037212\n",
              "3  Air Cargo Problem 4  ...     6.834336\n",
              "4  Air Cargo Problem 4  ...    50.453265\n",
              "5  Air Cargo Problem 4  ...   600.920339\n",
              "\n",
              "[6 rows x 8 columns]"
            ]
          },
          "metadata": {
            "tags": []
          },
          "execution_count": 54
        }
      ]
    },
    {
      "cell_type": "markdown",
      "metadata": {
        "id": "XLec1t1AyYzY",
        "colab_type": "text"
      },
      "source": [
        "<b><h2>Analysis One:</h2></b>\n",
        "\n",
        "Analyze the search complexity as a function of domain size, search algorithm, and heuristic.<br>\n",
        "The report includes a table or chart to analyze the number of nodes expanded against the number of actions in the domain.\n",
        "\n",
        "* The chart or table includes data for all search & heuristic combinations for air cargo problems 1 and 2.\n",
        "* The chart or table includes data at least one uninformed search, two heuristics with greedy best first search, and two heuristics with A* on air cargo problems 3 and 4.\n",
        "* Report includes at least a one paragraph discussion of these results that analyzes the growth trends as the problem size increases"
      ]
    },
    {
      "cell_type": "markdown",
      "metadata": {
        "id": "U4slTTHgMJCp",
        "colab_type": "text"
      },
      "source": [
        "First let's rename the Algorithms tpo make plotting easier"
      ]
    },
    {
      "cell_type": "code",
      "metadata": {
        "id": "qPJDdohJLqcs",
        "colab_type": "code",
        "colab": {}
      },
      "source": [
        "index_12 = ['bfs','dfgs','ucs','gbfgs_ug','gbfgs_ls','gbfgs_ml','gbfgs_sl','a*s_ug','a*s_ls','a*s_ml','a*s_sl']\n",
        "index_34 = ['bfs', 'dfgs', 'gbfgs_ug', 'gbfgs_ls', 'a*s_ug', 'a*s_ls']"
      ],
      "execution_count": null,
      "outputs": []
    },
    {
      "cell_type": "code",
      "metadata": {
        "id": "UZP0rxJSKsUI",
        "colab_type": "code",
        "colab": {
          "base_uri": "https://localhost:8080/",
          "height": 204
        },
        "outputId": "da62f4c6-74bf-4de4-8a28-770fc5730760"
      },
      "source": [
        "chart = prob_4.loc[:,['Actions', 'Expansions']]\n",
        "chart.head()"
      ],
      "execution_count": null,
      "outputs": [
        {
          "output_type": "execute_result",
          "data": {
            "text/html": [
              "<div>\n",
              "<style scoped>\n",
              "    .dataframe tbody tr th:only-of-type {\n",
              "        vertical-align: middle;\n",
              "    }\n",
              "\n",
              "    .dataframe tbody tr th {\n",
              "        vertical-align: top;\n",
              "    }\n",
              "\n",
              "    .dataframe thead th {\n",
              "        text-align: right;\n",
              "    }\n",
              "</style>\n",
              "<table border=\"1\" class=\"dataframe\">\n",
              "  <thead>\n",
              "    <tr style=\"text-align: right;\">\n",
              "      <th></th>\n",
              "      <th>Actions</th>\n",
              "      <th>Expansions</th>\n",
              "    </tr>\n",
              "  </thead>\n",
              "  <tbody>\n",
              "    <tr>\n",
              "      <th>0</th>\n",
              "      <td>104</td>\n",
              "      <td>99736</td>\n",
              "    </tr>\n",
              "    <tr>\n",
              "      <th>1</th>\n",
              "      <td>104</td>\n",
              "      <td>25174</td>\n",
              "    </tr>\n",
              "    <tr>\n",
              "      <th>2</th>\n",
              "      <td>104</td>\n",
              "      <td>29</td>\n",
              "    </tr>\n",
              "    <tr>\n",
              "      <th>3</th>\n",
              "      <td>104</td>\n",
              "      <td>17</td>\n",
              "    </tr>\n",
              "    <tr>\n",
              "      <th>4</th>\n",
              "      <td>104</td>\n",
              "      <td>34330</td>\n",
              "    </tr>\n",
              "  </tbody>\n",
              "</table>\n",
              "</div>"
            ],
            "text/plain": [
              "   Actions  Expansions\n",
              "0      104       99736\n",
              "1      104       25174\n",
              "2      104          29\n",
              "3      104          17\n",
              "4      104       34330"
            ]
          },
          "metadata": {
            "tags": []
          },
          "execution_count": 117
        }
      ]
    },
    {
      "cell_type": "code",
      "metadata": {
        "id": "rJ2f8q2tK5ZF",
        "colab_type": "code",
        "colab": {
          "base_uri": "https://localhost:8080/",
          "height": 34
        },
        "outputId": "165e3458-9c2c-49f9-c86e-60eebbc779f4"
      },
      "source": [
        "len(chart)"
      ],
      "execution_count": null,
      "outputs": [
        {
          "output_type": "execute_result",
          "data": {
            "text/plain": [
              "6"
            ]
          },
          "metadata": {
            "tags": []
          },
          "execution_count": 118
        }
      ]
    },
    {
      "cell_type": "code",
      "metadata": {
        "id": "b46fz8hfLVVb",
        "colab_type": "code",
        "colab": {
          "base_uri": "https://localhost:8080/",
          "height": 204
        },
        "outputId": "5ef51cf8-71c2-45b8-8c44-774208a5a967"
      },
      "source": [
        "chart.index = index_34\n",
        "chart.head()"
      ],
      "execution_count": null,
      "outputs": [
        {
          "output_type": "execute_result",
          "data": {
            "text/html": [
              "<div>\n",
              "<style scoped>\n",
              "    .dataframe tbody tr th:only-of-type {\n",
              "        vertical-align: middle;\n",
              "    }\n",
              "\n",
              "    .dataframe tbody tr th {\n",
              "        vertical-align: top;\n",
              "    }\n",
              "\n",
              "    .dataframe thead th {\n",
              "        text-align: right;\n",
              "    }\n",
              "</style>\n",
              "<table border=\"1\" class=\"dataframe\">\n",
              "  <thead>\n",
              "    <tr style=\"text-align: right;\">\n",
              "      <th></th>\n",
              "      <th>Actions</th>\n",
              "      <th>Expansions</th>\n",
              "    </tr>\n",
              "  </thead>\n",
              "  <tbody>\n",
              "    <tr>\n",
              "      <th>bfs</th>\n",
              "      <td>104</td>\n",
              "      <td>99736</td>\n",
              "    </tr>\n",
              "    <tr>\n",
              "      <th>dfgs</th>\n",
              "      <td>104</td>\n",
              "      <td>25174</td>\n",
              "    </tr>\n",
              "    <tr>\n",
              "      <th>gbfgs_ug</th>\n",
              "      <td>104</td>\n",
              "      <td>29</td>\n",
              "    </tr>\n",
              "    <tr>\n",
              "      <th>gbfgs_ls</th>\n",
              "      <td>104</td>\n",
              "      <td>17</td>\n",
              "    </tr>\n",
              "    <tr>\n",
              "      <th>a*s_ug</th>\n",
              "      <td>104</td>\n",
              "      <td>34330</td>\n",
              "    </tr>\n",
              "  </tbody>\n",
              "</table>\n",
              "</div>"
            ],
            "text/plain": [
              "          Actions  Expansions\n",
              "bfs           104       99736\n",
              "dfgs          104       25174\n",
              "gbfgs_ug      104          29\n",
              "gbfgs_ls      104          17\n",
              "a*s_ug        104       34330"
            ]
          },
          "metadata": {
            "tags": []
          },
          "execution_count": 119
        }
      ]
    },
    {
      "cell_type": "code",
      "metadata": {
        "id": "xbrgNVvMMXDn",
        "colab_type": "code",
        "colab": {
          "base_uri": "https://localhost:8080/",
          "height": 204
        },
        "outputId": "38c3f405-a49d-47b1-ab3a-dd21b48fb06b"
      },
      "source": [
        "chart['Expansions/Actions_Ratio'] = np.round(chart['Expansions'] // chart['Actions'])\n",
        "chart.head()"
      ],
      "execution_count": null,
      "outputs": [
        {
          "output_type": "execute_result",
          "data": {
            "text/html": [
              "<div>\n",
              "<style scoped>\n",
              "    .dataframe tbody tr th:only-of-type {\n",
              "        vertical-align: middle;\n",
              "    }\n",
              "\n",
              "    .dataframe tbody tr th {\n",
              "        vertical-align: top;\n",
              "    }\n",
              "\n",
              "    .dataframe thead th {\n",
              "        text-align: right;\n",
              "    }\n",
              "</style>\n",
              "<table border=\"1\" class=\"dataframe\">\n",
              "  <thead>\n",
              "    <tr style=\"text-align: right;\">\n",
              "      <th></th>\n",
              "      <th>Actions</th>\n",
              "      <th>Expansions</th>\n",
              "      <th>Expansions/Actions_Ratio</th>\n",
              "    </tr>\n",
              "  </thead>\n",
              "  <tbody>\n",
              "    <tr>\n",
              "      <th>bfs</th>\n",
              "      <td>104</td>\n",
              "      <td>99736</td>\n",
              "      <td>959</td>\n",
              "    </tr>\n",
              "    <tr>\n",
              "      <th>dfgs</th>\n",
              "      <td>104</td>\n",
              "      <td>25174</td>\n",
              "      <td>242</td>\n",
              "    </tr>\n",
              "    <tr>\n",
              "      <th>gbfgs_ug</th>\n",
              "      <td>104</td>\n",
              "      <td>29</td>\n",
              "      <td>0</td>\n",
              "    </tr>\n",
              "    <tr>\n",
              "      <th>gbfgs_ls</th>\n",
              "      <td>104</td>\n",
              "      <td>17</td>\n",
              "      <td>0</td>\n",
              "    </tr>\n",
              "    <tr>\n",
              "      <th>a*s_ug</th>\n",
              "      <td>104</td>\n",
              "      <td>34330</td>\n",
              "      <td>330</td>\n",
              "    </tr>\n",
              "  </tbody>\n",
              "</table>\n",
              "</div>"
            ],
            "text/plain": [
              "          Actions  Expansions  Expansions/Actions_Ratio\n",
              "bfs           104       99736                       959\n",
              "dfgs          104       25174                       242\n",
              "gbfgs_ug      104          29                         0\n",
              "gbfgs_ls      104          17                         0\n",
              "a*s_ug        104       34330                       330"
            ]
          },
          "metadata": {
            "tags": []
          },
          "execution_count": 122
        }
      ]
    },
    {
      "cell_type": "code",
      "metadata": {
        "id": "53qvqHMOOdh8",
        "colab_type": "code",
        "colab": {
          "base_uri": "https://localhost:8080/",
          "height": 34
        },
        "outputId": "5e103026-c5df-4115-cde7-4283cdd6309f"
      },
      "source": [
        "sum(chart['Expansions/Actions_Ratio'])"
      ],
      "execution_count": null,
      "outputs": [
        {
          "output_type": "execute_result",
          "data": {
            "text/plain": [
              "1542"
            ]
          },
          "metadata": {
            "tags": []
          },
          "execution_count": 123
        }
      ]
    },
    {
      "cell_type": "code",
      "metadata": {
        "id": "JKVC_0QEPXhV",
        "colab_type": "code",
        "colab": {
          "base_uri": "https://localhost:8080/",
          "height": 204
        },
        "outputId": "fb0e199b-1339-49a8-c0c1-9f2ebfdabb15"
      },
      "source": [
        "chart['Expansions/Actions_Ratio'] = np.round(chart['Expansions/Actions_Ratio'] / sum(chart['Expansions/Actions_Ratio']),2)\n",
        "chart.head()"
      ],
      "execution_count": null,
      "outputs": [
        {
          "output_type": "execute_result",
          "data": {
            "text/html": [
              "<div>\n",
              "<style scoped>\n",
              "    .dataframe tbody tr th:only-of-type {\n",
              "        vertical-align: middle;\n",
              "    }\n",
              "\n",
              "    .dataframe tbody tr th {\n",
              "        vertical-align: top;\n",
              "    }\n",
              "\n",
              "    .dataframe thead th {\n",
              "        text-align: right;\n",
              "    }\n",
              "</style>\n",
              "<table border=\"1\" class=\"dataframe\">\n",
              "  <thead>\n",
              "    <tr style=\"text-align: right;\">\n",
              "      <th></th>\n",
              "      <th>Actions</th>\n",
              "      <th>Expansions</th>\n",
              "      <th>Expansions/Actions_Ratio</th>\n",
              "    </tr>\n",
              "  </thead>\n",
              "  <tbody>\n",
              "    <tr>\n",
              "      <th>bfs</th>\n",
              "      <td>104</td>\n",
              "      <td>99736</td>\n",
              "      <td>0.62</td>\n",
              "    </tr>\n",
              "    <tr>\n",
              "      <th>dfgs</th>\n",
              "      <td>104</td>\n",
              "      <td>25174</td>\n",
              "      <td>0.16</td>\n",
              "    </tr>\n",
              "    <tr>\n",
              "      <th>gbfgs_ug</th>\n",
              "      <td>104</td>\n",
              "      <td>29</td>\n",
              "      <td>0.00</td>\n",
              "    </tr>\n",
              "    <tr>\n",
              "      <th>gbfgs_ls</th>\n",
              "      <td>104</td>\n",
              "      <td>17</td>\n",
              "      <td>0.00</td>\n",
              "    </tr>\n",
              "    <tr>\n",
              "      <th>a*s_ug</th>\n",
              "      <td>104</td>\n",
              "      <td>34330</td>\n",
              "      <td>0.21</td>\n",
              "    </tr>\n",
              "  </tbody>\n",
              "</table>\n",
              "</div>"
            ],
            "text/plain": [
              "          Actions  Expansions  Expansions/Actions_Ratio\n",
              "bfs           104       99736                      0.62\n",
              "dfgs          104       25174                      0.16\n",
              "gbfgs_ug      104          29                      0.00\n",
              "gbfgs_ls      104          17                      0.00\n",
              "a*s_ug        104       34330                      0.21"
            ]
          },
          "metadata": {
            "tags": []
          },
          "execution_count": 128
        }
      ]
    },
    {
      "cell_type": "code",
      "metadata": {
        "id": "Ci7hv234SDyq",
        "colab_type": "code",
        "colab": {
          "base_uri": "https://localhost:8080/",
          "height": 204
        },
        "outputId": "f5c6a512-94c5-4d13-a155-73c7067614b6"
      },
      "source": [
        "chart.drop(['Actions', 'Expansions'], axis=1, inplace=True)\n",
        "chart.head()"
      ],
      "execution_count": null,
      "outputs": [
        {
          "output_type": "execute_result",
          "data": {
            "text/html": [
              "<div>\n",
              "<style scoped>\n",
              "    .dataframe tbody tr th:only-of-type {\n",
              "        vertical-align: middle;\n",
              "    }\n",
              "\n",
              "    .dataframe tbody tr th {\n",
              "        vertical-align: top;\n",
              "    }\n",
              "\n",
              "    .dataframe thead th {\n",
              "        text-align: right;\n",
              "    }\n",
              "</style>\n",
              "<table border=\"1\" class=\"dataframe\">\n",
              "  <thead>\n",
              "    <tr style=\"text-align: right;\">\n",
              "      <th></th>\n",
              "      <th>Expansions/Actions_Ratio</th>\n",
              "    </tr>\n",
              "  </thead>\n",
              "  <tbody>\n",
              "    <tr>\n",
              "      <th>bfs</th>\n",
              "      <td>0.62</td>\n",
              "    </tr>\n",
              "    <tr>\n",
              "      <th>dfgs</th>\n",
              "      <td>0.16</td>\n",
              "    </tr>\n",
              "    <tr>\n",
              "      <th>gbfgs_ug</th>\n",
              "      <td>0.00</td>\n",
              "    </tr>\n",
              "    <tr>\n",
              "      <th>gbfgs_ls</th>\n",
              "      <td>0.00</td>\n",
              "    </tr>\n",
              "    <tr>\n",
              "      <th>a*s_ug</th>\n",
              "      <td>0.21</td>\n",
              "    </tr>\n",
              "  </tbody>\n",
              "</table>\n",
              "</div>"
            ],
            "text/plain": [
              "          Expansions/Actions_Ratio\n",
              "bfs                           0.62\n",
              "dfgs                          0.16\n",
              "gbfgs_ug                      0.00\n",
              "gbfgs_ls                      0.00\n",
              "a*s_ug                        0.21"
            ]
          },
          "metadata": {
            "tags": []
          },
          "execution_count": 132
        }
      ]
    },
    {
      "cell_type": "code",
      "metadata": {
        "id": "R2VKtS0BKgaf",
        "colab_type": "code",
        "colab": {}
      },
      "source": [
        "def get_chart(table):\n",
        "    chart = table.loc[:, ['Actions', 'Expansions']]\n",
        "    actions = chart['Actions'][0]\n",
        "    problem = table['Problem'][0]\n",
        "    if len(chart) == 11:\n",
        "        chart.index = index_12\n",
        "    else:\n",
        "        chart.index = index_34\n",
        "    \n",
        "    # Next, let's get the ratio of Expansions to Actions\n",
        "    chart['Expansions/Actions_Ratio'] = np.round(chart['Expansions'] // chart['Actions'])\n",
        "\n",
        "    # Let's normalize the ratio between 0 and 1 to make plotting easier\n",
        "    chart['Expansions/Actions_Ratio'] = np.round(chart['Expansions/Actions_Ratio'] / sum(chart['Expansions/Actions_Ratio']),2)\n",
        "\n",
        "    # Let's drop the columns we don't need for the plot\n",
        "    chart.drop(['Actions', 'Expansions'], axis=1, inplace=True)\n",
        "    \n",
        "    return chart, actions, problem"
      ],
      "execution_count": 253,
      "outputs": []
    },
    {
      "cell_type": "code",
      "metadata": {
        "id": "FARXhWLZtSZW",
        "colab_type": "code",
        "colab": {}
      },
      "source": [
        "def plot_bar_chart(chart_1, chart_2, problem):\n",
        "    plt.figure(figsize=(16,5))\n",
        "    sns.set(font_scale=1.2)\n",
        "    sns.set_style('ticks') # change background to white background\n",
        "\n",
        "    if problem in [1, 2]:\n",
        "        plt.suptitle('Expansions/Actions Ratios for Air Cargo Problems 1 and 2', y=1.02)\n",
        "        # For Problem 1\n",
        "        plt.subplot(121)\n",
        "        color_list = ['gold','purple','brown', 'red', 'yellow', 'black', 'aqua', 'pink',\n",
        "                    'green', 'dimgray', 'crimson']\n",
        "        plt.bar(x=chart_1.index, height=chart_1['Expansions/Actions_Ratio'], data=chart_1, color= color_list)\n",
        "        plt.title(f'{ch1_problem}; Actions = {ch1_actions}')\n",
        "        plt.xticks(np.arange(len(chart_1)), chart_1.index, rotation='vertical')\n",
        "        plt.ylabel('Exp/Act Ratio')\n",
        "\n",
        "        # For Problem 2\n",
        "        plt.subplot(122)\n",
        "        plt.bar(x=chart_2.index, height=chart_2['Expansions/Actions_Ratio'], data=chart_2, color= color_list)\n",
        "        plt.title(f'{ch2_problem}; Actions = {ch2_actions}')\n",
        "        plt.xticks(np.arange(len(chart_2)), chart_2.index, rotation='vertical')\n",
        "        plt.ylabel('Exp/Act Ratio')\n",
        "\n",
        "    else:\n",
        "        plt.suptitle('Expansions/Actions Ratios for Air Cargo Problems 3 and 4', y=1.02)\n",
        "        # For Problem 1\n",
        "        plt.subplot(121)\n",
        "        color_list = ['crimson','purple','brown', 'red', 'yellow', 'black']\n",
        "        plt.bar(x=chart_1.index, height=chart_1['Expansions/Actions_Ratio'], data=chart_1, color= color_list)\n",
        "        plt.title(f'{ch1_problem}; Actions = {ch1_actions}')\n",
        "        plt.xticks(np.arange(len(chart_1)), chart_1.index, rotation='vertical')\n",
        "        plt.ylabel('Exp/Act Ratio')\n",
        "\n",
        "        # For Problem 2\n",
        "        plt.subplot(122)\n",
        "        plt.bar(x=chart_2.index, height=chart_2['Expansions/Actions_Ratio'], data=chart_2, color= color_list)\n",
        "        plt.title(f'{ch2_problem}; Actions = {ch2_actions}')\n",
        "        plt.xticks(np.arange(len(chart_2)), chart_2.index, rotation='vertical')\n",
        "        plt.ylabel('Exp/Act Ratio')\n",
        "    \n",
        "    plt.show()\n",
        "    "
      ],
      "execution_count": 273,
      "outputs": []
    },
    {
      "cell_type": "code",
      "metadata": {
        "id": "s0UB8OASvF6I",
        "colab_type": "code",
        "colab": {
          "base_uri": "https://localhost:8080/",
          "height": 423
        },
        "outputId": "444026b4-3972-497e-a124-226510acbc2d"
      },
      "source": [
        "chart_1, ch1_actions, ch1_problem = get_chart(prob_1)\n",
        "chart_2, ch2_actions, ch2_problem = get_chart(prob_2)\n",
        "plot_bar_chart(chart_1, chart_2, 2)"
      ],
      "execution_count": 276,
      "outputs": [
        {
          "output_type": "display_data",
          "data": {
            "image/png": "[encoded data removed]",
            "text/plain": [
              "<Figure size 1152x360 with 2 Axes>"
            ]
          },
          "metadata": {
            "tags": []
          }
        }
      ]
    },
    {
      "cell_type": "code",
      "metadata": {
        "id": "Kvrzx2GDy68p",
        "colab_type": "code",
        "colab": {
          "base_uri": "https://localhost:8080/",
          "height": 423
        },
        "outputId": "76057fd9-75ba-4c73-d11e-b6448d7c132c"
      },
      "source": [
        "chart_1, ch1_actions, ch1_problem = get_chart(prob_3)\n",
        "chart_2, ch2_actions, ch2_problem = get_chart(prob_4)\n",
        "plot_bar_chart(chart_1, chart_2, 3)"
      ],
      "execution_count": 277,
      "outputs": [
        {
          "output_type": "display_data",
          "data": {
            "image/png": "[encoded data removed]",
            "text/plain": [
              "<Figure size 1152x360 with 2 Axes>"
            ]
          },
          "metadata": {
            "tags": []
          }
        }
      ]
    }
  ]
}